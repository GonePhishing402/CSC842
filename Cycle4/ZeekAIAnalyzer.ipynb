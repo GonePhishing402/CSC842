{
  "cells": [
    {
      "cell_type": "markdown",
      "source": [
        "## ZeekAIAnalyzer\n",
        "This tool is designed to analyze Zeek Conn Logs and look for anomalous spikes in traffic, potential beaconing, and other behavior. This tool uses Azure OpenAI to help analyze the logs and provide a summary of the behavior."
      ],
      "metadata": {
        "nteract": {
          "transient": {
            "deleting": false
          }
        }
      }
    },
    {
      "cell_type": "code",
      "source": [
        "import pandas as pd\n",
        "from openai import AzureOpenAI\n",
        "import os\n",
        "\n",
        "# Step 1: Load the Zeek connection log JSON file\n",
        "json_file = \"conn.log\"\n",
        "df = pd.read_json(json_file, lines=True)\n",
        "\n",
        "# Step 2: Analyze the data\n",
        "summary_stats = {\n",
        "    \"total_records\": len(df),\n",
        "    \"unique_source_ips\": df['id.orig_h'].nunique(),\n",
        "    \"unique_destination_ips\": df['id.resp_h'].nunique(),\n",
        "    \"top_source_ips\": df['id.orig_h'].value_counts().head(5).to_dict(),\n",
        "    \"top_destination_ips\": df['id.resp_h'].value_counts().head(5).to_dict(),\n",
        "    \"duration_stats\": df['duration'].describe().to_dict(),\n",
        "    \"orig_bytes_stats\": df['orig_bytes'].describe().to_dict(),\n",
        "    \"resp_bytes_stats\": df['resp_bytes'].describe().to_dict()\n",
        "}\n",
        "\n",
        "# Step 3: Format the analysis into a prompt\n",
        "analysis_prompt = f\"\"\"\n",
        "You are a cybersecurity analyst. Here is a summary of Zeek connection logs:\n",
        "\n",
        "- Total records: {summary_stats['total_records']}\n",
        "- Unique source IPs: {summary_stats['unique_source_ips']}\n",
        "- Unique destination IPs: {summary_stats['unique_destination_ips']}\n",
        "- Top source IPs by frequency: {summary_stats['top_source_ips']}\n",
        "- Top destination IPs by frequency: {summary_stats['top_destination_ips']}\n",
        "- Duration statistics: {summary_stats['duration_stats']}\n",
        "- Originator bytes statistics: {summary_stats['orig_bytes_stats']}\n",
        "- Responder bytes statistics: {summary_stats['resp_bytes_stats']}\n",
        "\n",
        "Please provide a concise summary of the network behavior and any potential indicators of beaconing or anomalies.\n",
        "\"\"\"\n",
        "\n",
        "# Step 4: Initialize the AzureOpenAI client\n",
        "client = AzureOpenAI(\n",
        "    api_key=\"",\n",
        "    api_version=\"",\n",
        "    azure_endpoint=\""\n",
        ")\n",
        "\n",
        "# Step 5: Request a summary from Azure OpenAI\n",
        "response = client.chat.completions.create(\n",
        "    model=\"",\n",
        "    messages=[\n",
        "        {\"role\": \"system\", \"content\": \"You are a cybersecurity analyst.\"},\n",
        "        {\"role\": \"user\", \"content\": analysis_prompt}\n",
        "    ]\n",
        ")\n",
        "\n",
        "# Step 6: Print the summary\n",
        "print(response.choices[0].message.content)\n"
      ],
      "outputs": [],
      "execution_count": null,
      "metadata": {
        "gather": {
          "logged": 1751747084647
        }
      }
    }
  ],
  "metadata": {
    "kernelspec": {
      "name": "python38-azureml",
      "language": "python",
      "display_name": "Python 3.10 - AzureML"
    },
    "language_info": {
      "name": "python",
      "version": "3.10.11",
      "mimetype": "text/x-python",
      "codemirror_mode": {
        "name": "ipython",
        "version": 3
      },
      "pygments_lexer": "ipython3",
      "nbconvert_exporter": "python",
      "file_extension": ".py"
    },
    "microsoft": {
      "ms_spell_check": {
        "ms_spell_check_language": "en"
      },
      "host": {
        "AzureML": {
          "notebookHasBeenCompleted": true
        }
      }
    },
    "kernel_info": {
      "name": "python38-azureml"
    },
    "nteract": {
      "version": "nteract-front-end@1.0.0"
    }
  },
  "nbformat": 4,
  "nbformat_minor": 2
}
